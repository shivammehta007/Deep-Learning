{
  "nbformat": 4,
  "nbformat_minor": 0,
  "metadata": {
    "colab": {
      "name": "Task 2 CNN.ipynb",
      "version": "0.3.2",
      "provenance": [],
      "include_colab_link": true
    },
    "language_info": {
      "codemirror_mode": {
        "name": "ipython",
        "version": 3
      },
      "file_extension": ".py",
      "mimetype": "text/x-python",
      "name": "python",
      "nbconvert_exporter": "python",
      "pygments_lexer": "ipython3",
      "version": "3.6.7"
    },
    "kernelspec": {
      "display_name": "Python 3",
      "language": "python",
      "name": "python3"
    }
  },
  "cells": [
    {
      "cell_type": "markdown",
      "metadata": {
        "id": "view-in-github",
        "colab_type": "text"
      },
      "source": [
        "<a href=\"https://colab.research.google.com/github/shivammehta007/Deep-Learning/blob/master/Task%202%20CNN.ipynb\" target=\"_parent\"><img src=\"https://colab.research.google.com/assets/colab-badge.svg\" alt=\"Open In Colab\"/></a>"
      ]
    },
    {
      "cell_type": "code",
      "metadata": {
        "id": "AmxkZIKwAZX3",
        "colab_type": "code",
        "colab": {
          "base_uri": "https://localhost:8080/",
          "height": 34
        },
        "outputId": "2d1e4717-42ef-4def-aebe-eb78b0cbfbb8"
      },
      "source": [
        "from __future__ import print_function\n",
        "from keras.datasets import fashion_mnist\n",
        "import keras\n",
        "from keras.layers.core import Dense, Dropout\n",
        "from keras.layers import Conv2D, MaxPool2D, Flatten\n",
        "from keras.layers import Input\n",
        "from keras.utils import np_utils\n",
        "from keras.models import Model\n",
        "from keras.models import Sequential\n",
        "from keras.optimizers import RMSprop\n",
        "import matplotlib.pyplot as plt\n",
        "from sklearn.model_selection import ParameterGrid\n",
        "from keras.regularizers import l2,l1\n",
        "import os\n",
        "import numpy as np\n",
        "import pandas as pd\n",
        "from sklearn.model_selection import GridSearchCV\n",
        "from sklearn.ensemble import RandomForestClassifier\n",
        "from keras.wrappers.scikit_learn import KerasClassifier\n",
        "from sklearn.metrics import accuracy_score\n",
        "os.environ['KMP_DUPLICATE_LIB_OK']='True'\n"
      ],
      "execution_count": 1,
      "outputs": [
        {
          "output_type": "stream",
          "text": [
            "Using TensorFlow backend.\n"
          ],
          "name": "stderr"
        }
      ]
    },
    {
      "cell_type": "code",
      "metadata": {
        "id": "HSuRktaUAZYF",
        "colab_type": "code",
        "colab": {
          "base_uri": "https://localhost:8080/",
          "height": 153
        },
        "outputId": "44798749-832b-4668-d843-fc0db034c799"
      },
      "source": [
        "# Data\n",
        "(x_train, y_train), (x_test, y_test) = fashion_mnist.load_data()"
      ],
      "execution_count": 2,
      "outputs": [
        {
          "output_type": "stream",
          "text": [
            "Downloading data from http://fashion-mnist.s3-website.eu-central-1.amazonaws.com/train-labels-idx1-ubyte.gz\n",
            "32768/29515 [=================================] - 0s 3us/step\n",
            "Downloading data from http://fashion-mnist.s3-website.eu-central-1.amazonaws.com/train-images-idx3-ubyte.gz\n",
            "26427392/26421880 [==============================] - 2s 0us/step\n",
            "Downloading data from http://fashion-mnist.s3-website.eu-central-1.amazonaws.com/t10k-labels-idx1-ubyte.gz\n",
            "8192/5148 [===============================================] - 0s 0us/step\n",
            "Downloading data from http://fashion-mnist.s3-website.eu-central-1.amazonaws.com/t10k-images-idx3-ubyte.gz\n",
            "4423680/4422102 [==============================] - 1s 0us/step\n"
          ],
          "name": "stdout"
        }
      ]
    },
    {
      "cell_type": "code",
      "metadata": {
        "id": "IO62IKqyAZYI",
        "colab_type": "code",
        "colab": {
          "base_uri": "https://localhost:8080/",
          "height": 85
        },
        "outputId": "af1c3234-6de3-4ba0-ee68-399e01652352"
      },
      "source": [
        "print(x_train.shape)\n",
        "print(x_train[0].shape)\n",
        "print(y_train.shape)\n",
        "print(y_train[0])"
      ],
      "execution_count": 3,
      "outputs": [
        {
          "output_type": "stream",
          "text": [
            "(60000, 28, 28)\n",
            "(28, 28)\n",
            "(60000,)\n",
            "9\n"
          ],
          "name": "stdout"
        }
      ]
    },
    {
      "cell_type": "markdown",
      "metadata": {
        "id": "bblfZlzDAZYL",
        "colab_type": "text"
      },
      "source": [
        "# MLP"
      ]
    },
    {
      "cell_type": "code",
      "metadata": {
        "id": "AFiCd9DYAZYM",
        "colab_type": "code",
        "colab": {}
      },
      "source": [
        "def prepare_data_for_MLP(x_train, y_train, x_test, y_test):\n",
        "    num_classes = 10\n",
        "    x_train = x_train.reshape(60000, 784)\n",
        "    x_test = x_test.reshape(10000, 784)\n",
        "    x_train = x_train.astype('float32')\n",
        "    x_test = x_test.astype('float32')\n",
        "    x_train /= 255\n",
        "    x_test /= 255\n",
        "    y_train = keras.utils.to_categorical(y_train, num_classes)\n",
        "    y_test = keras.utils.to_categorical(y_test, num_classes)\n",
        "    print('Data Loaded with Sample sizes')\n",
        "    print('Train Sample Size: {}  '.format(x_train.shape[0]))\n",
        "    print('Test Sample Size: {}'.format(x_test.shape[0]))\n",
        "    return x_train, y_train, x_test, y_test"
      ],
      "execution_count": 0,
      "outputs": []
    },
    {
      "cell_type": "code",
      "metadata": {
        "id": "VcTuPvEoAZYO",
        "colab_type": "code",
        "colab": {
          "base_uri": "https://localhost:8080/",
          "height": 68
        },
        "outputId": "210857ed-3c92-4dad-eed7-91bca659b5d7"
      },
      "source": [
        "x_train_mlp, y_train_mlp, x_test_mlp, y_test_mlp = prepare_data_for_MLP(x_train, y_train, x_test, y_test)"
      ],
      "execution_count": 5,
      "outputs": [
        {
          "output_type": "stream",
          "text": [
            "Data Loaded with Sample sizes\n",
            "Train Sample Size: 60000  \n",
            "Test Sample Size: 10000\n"
          ],
          "name": "stdout"
        }
      ]
    },
    {
      "cell_type": "code",
      "metadata": {
        "id": "8dNRmigsAZYS",
        "colab_type": "code",
        "colab": {}
      },
      "source": [
        "target_dict = {\n",
        " 0: 'T-shirt/top',\n",
        " 1: 'Trouser',\n",
        " 2: 'Pullover',\n",
        " 3: 'Dress',\n",
        " 4: 'Coat',\n",
        " 5: 'Sandal',\n",
        " 6: 'Shirt',\n",
        " 7: 'Sneaker',\n",
        " 8: 'Bag',\n",
        " 9: 'Ankle boot',\n",
        "}"
      ],
      "execution_count": 0,
      "outputs": []
    },
    {
      "cell_type": "code",
      "metadata": {
        "id": "m_DnnZROAZYV",
        "colab_type": "code",
        "colab": {
          "base_uri": "https://localhost:8080/",
          "height": 482
        },
        "outputId": "1a6620c7-4f21-4be1-a0b7-f4805187d574"
      },
      "source": [
        "plt.figure(figsize=(10,10))\n",
        "for i in range(0,20):\n",
        "    plt.subplot(5,5, i+1)\n",
        "    plt.imshow(x_train[i] )\n",
        "    plt.title( target_dict[(y_train[i]) ])\n",
        "    plt.xticks([])\n",
        "    plt.yticks([])"
      ],
      "execution_count": 7,
      "outputs": [
        {
          "output_type": "display_data",
          "data": {
            "image/png": "[encoded data removed]",
            "text/plain": [
              "<Figure size 720x720 with 20 Axes>"
            ]
          },
          "metadata": {
            "tags": []
          }
        }
      ]
    },
    {
      "cell_type": "code",
      "metadata": {
        "id": "oLVXe0afAZYb",
        "colab_type": "code",
        "colab": {}
      },
      "source": [
        "class MLPModel:\n",
        "    def __init__(self,x_train, y_train, x_test, y_test, epochs):\n",
        "        self.x_train = x_train\n",
        "        self.y_train = y_train\n",
        "        self.x_test = x_test\n",
        "        self.y_test = y_test\n",
        "        self.epochs = epochs\n",
        "        self.model = Sequential()\n",
        "\n",
        "    \n",
        "    def build_model(self, layers, activation, optimizer, regularization=None, dropout = 0.0):\n",
        "        print(layers, activation, optimizer, regularization, dropout)\n",
        "        for i in range(len(layers)):  \n",
        "            if regularization:\n",
        "                regu = l2(regularization[1]) if regularization[0] == 'l2' else l1(regularization[1])\n",
        "\n",
        "            if i==0:\n",
        "                # If First layer have to input size otherwise let it go\n",
        "                self.model.add(Dense(layers[i], activation=activation, input_shape=self.x_train[0].shape, kernel_regularizer=regu))\n",
        "            else:\n",
        "                self.model.add(Dense(layers[i], activation=activation, kernel_regularizer=regu))\n",
        "\n",
        "            if dropout:\n",
        "                self.model.add(Dropout(dropout))\n",
        "        \n",
        "        self.model.add(Dense(10, activation='softmax'))\n",
        "        self.model.summary()\n",
        "        self.model.compile(loss='categorical_crossentropy', optimizer=optimizer,  metrics=['accuracy'])\n",
        "        return self.model\n",
        "    \n",
        "    def train_model(self):\n",
        "        return self.model.fit(self.x_train, self.y_train, batch_size=self.batch_size, epochs=self.epochs, verbose=2, validation_data=(self.x_test, self.y_test))      \n",
        "        \n",
        "    \n",
        "    def print_head(self, n= 10):\n",
        "        plt.figure(figsize=(20, 4))\n",
        "        for i in range(1,n):\n",
        "            ax = plt.subplot(2, n, i)\n",
        "            plt.imshow(self.x_train[i].reshape(28, 28))\n",
        "            plt.gray()\n",
        "            ax.get_xaxis().set_visible(False)\n",
        "            ax.get_yaxis().set_visible(False)\n",
        "        plt.show()\n",
        "        \n",
        "        "
      ],
      "execution_count": 0,
      "outputs": []
    },
    {
      "cell_type": "code",
      "metadata": {
        "id": "c4H7NY6XAZYe",
        "colab_type": "code",
        "colab": {}
      },
      "source": [
        "parameters = { 'layers': [[512, 512], [512, 512, 512]], \n",
        "                     'activation': ['relu', 'elu'],\n",
        "                     'optimizer' : ['adam'],\n",
        "                     'dropout' : [0.2],\n",
        "                     'regularization' : [ ('l2', 0.001) ]\n",
        "                   }"
      ],
      "execution_count": 0,
      "outputs": []
    },
    {
      "cell_type": "code",
      "metadata": {
        "id": "TrTwvlv_AZYh",
        "colab_type": "code",
        "colab": {
          "base_uri": "https://localhost:8080/",
          "height": 9027
        },
        "outputId": "23699755-3dcb-48b3-e190-ec4f3d32e675"
      },
      "source": [
        "\n",
        "m = MLPModel(x_train_mlp, y_train_mlp, x_test_mlp, y_test_mlp, 10)\n",
        "model = KerasClassifier(build_fn=m.build_model,epochs=10, batch_size=128)\n",
        "grid_search = GridSearchCV(estimator=model, param_grid=parameters, cv=3)\n",
        "grid_result = grid_search.fit(x_train_mlp, y_train_mlp)\n",
        "\n"
      ],
      "execution_count": 0,
      "outputs": [
        {
          "output_type": "stream",
          "text": [
            "/usr/local/lib/python3.6/dist-packages/keras/engine/saving.py:292: UserWarning: No training configuration found in save file: the model was *not* compiled. Compile it manually.\n",
            "  warnings.warn('No training configuration found in save file: '\n"
          ],
          "name": "stderr"
        },
        {
          "output_type": "stream",
          "text": [
            "[512, 512] relu adam ('l2', 0.001) 0.2\n",
            "_________________________________________________________________\n",
            "Layer (type)                 Output Shape              Param #   \n",
            "=================================================================\n",
            "dense_4 (Dense)              (None, 512)               401920    \n",
            "_________________________________________________________________\n",
            "dropout_3 (Dropout)          (None, 512)               0         \n",
            "_________________________________________________________________\n",
            "dense_5 (Dense)              (None, 512)               262656    \n",
            "_________________________________________________________________\n",
            "dropout_4 (Dropout)          (None, 512)               0         \n",
            "_________________________________________________________________\n",
            "dense_6 (Dense)              (None, 10)                5130      \n",
            "=================================================================\n",
            "Total params: 669,706\n",
            "Trainable params: 669,706\n",
            "Non-trainable params: 0\n",
            "_________________________________________________________________\n",
            "Epoch 1/10\n",
            "40000/40000 [==============================] - 8s 194us/step - loss: 1.2113 - acc: 0.7950\n",
            "Epoch 2/10\n",
            "40000/40000 [==============================] - 7s 182us/step - loss: 0.7409 - acc: 0.8434\n",
            "Epoch 3/10\n",
            "40000/40000 [==============================] - 7s 183us/step - loss: 0.6137 - acc: 0.8511\n",
            "Epoch 4/10\n",
            "40000/40000 [==============================] - 7s 184us/step - loss: 0.5496 - acc: 0.8572\n",
            "Epoch 5/10\n",
            "40000/40000 [==============================] - 7s 184us/step - loss: 0.5283 - acc: 0.8565\n",
            "Epoch 6/10\n",
            "40000/40000 [==============================] - 7s 184us/step - loss: 0.5083 - acc: 0.8602\n",
            "Epoch 7/10\n",
            "40000/40000 [==============================] - 7s 184us/step - loss: 0.4957 - acc: 0.8634\n",
            "Epoch 8/10\n",
            "40000/40000 [==============================] - 7s 187us/step - loss: 0.4809 - acc: 0.8640\n",
            "Epoch 9/10\n",
            "40000/40000 [==============================] - 7s 186us/step - loss: 0.4796 - acc: 0.8646\n",
            "Epoch 10/10\n",
            "40000/40000 [==============================] - 7s 186us/step - loss: 0.4701 - acc: 0.8693\n",
            "20000/20000 [==============================] - 1s 56us/step\n",
            "[512, 512] relu adam ('l2', 0.001) 0.2\n",
            "_________________________________________________________________\n",
            "Layer (type)                 Output Shape              Param #   \n",
            "=================================================================\n",
            "dense_7 (Dense)              (None, 512)               401920    \n",
            "_________________________________________________________________\n",
            "dropout_5 (Dropout)          (None, 512)               0         \n",
            "_________________________________________________________________\n",
            "dense_8 (Dense)              (None, 512)               262656    \n",
            "_________________________________________________________________\n",
            "dropout_6 (Dropout)          (None, 512)               0         \n",
            "_________________________________________________________________\n",
            "dense_9 (Dense)              (None, 10)                5130      \n",
            "=================================================================\n",
            "Total params: 669,706\n",
            "Trainable params: 669,706\n",
            "Non-trainable params: 0\n",
            "_________________________________________________________________\n",
            "Epoch 1/10\n",
            "40000/40000 [==============================] - 8s 210us/step - loss: 1.1909 - acc: 0.7935\n",
            "Epoch 2/10\n",
            "40000/40000 [==============================] - 8s 195us/step - loss: 0.7395 - acc: 0.8407\n",
            "Epoch 3/10\n",
            "40000/40000 [==============================] - 8s 195us/step - loss: 0.6077 - acc: 0.8499\n",
            "Epoch 4/10\n",
            "40000/40000 [==============================] - 8s 193us/step - loss: 0.5572 - acc: 0.8520\n",
            "Epoch 5/10\n",
            "40000/40000 [==============================] - 8s 190us/step - loss: 0.5189 - acc: 0.8584\n",
            "Epoch 6/10\n",
            "40000/40000 [==============================] - 8s 190us/step - loss: 0.5048 - acc: 0.8593\n",
            "Epoch 7/10\n",
            "40000/40000 [==============================] - 8s 188us/step - loss: 0.4940 - acc: 0.8609\n",
            "Epoch 8/10\n",
            "40000/40000 [==============================] - 7s 186us/step - loss: 0.4830 - acc: 0.8628\n",
            "Epoch 9/10\n",
            "40000/40000 [==============================] - 7s 184us/step - loss: 0.4741 - acc: 0.8659\n",
            "Epoch 10/10\n",
            "40000/40000 [==============================] - 8s 188us/step - loss: 0.4690 - acc: 0.8675\n",
            "20000/20000 [==============================] - 1s 53us/step\n",
            "[512, 512] relu adam ('l2', 0.001) 0.2\n",
            "_________________________________________________________________\n",
            "Layer (type)                 Output Shape              Param #   \n",
            "=================================================================\n",
            "dense_10 (Dense)             (None, 512)               401920    \n",
            "_________________________________________________________________\n",
            "dropout_7 (Dropout)          (None, 512)               0         \n",
            "_________________________________________________________________\n",
            "dense_11 (Dense)             (None, 512)               262656    \n",
            "_________________________________________________________________\n",
            "dropout_8 (Dropout)          (None, 512)               0         \n",
            "_________________________________________________________________\n",
            "dense_12 (Dense)             (None, 10)                5130      \n",
            "=================================================================\n",
            "Total params: 669,706\n",
            "Trainable params: 669,706\n",
            "Non-trainable params: 0\n",
            "_________________________________________________________________\n",
            "Epoch 1/10\n",
            "40000/40000 [==============================] - 8s 194us/step - loss: 1.2094 - acc: 0.7923\n",
            "Epoch 2/10\n",
            "40000/40000 [==============================] - 7s 180us/step - loss: 0.7459 - acc: 0.8418\n",
            "Epoch 3/10\n",
            "40000/40000 [==============================] - 8s 188us/step - loss: 0.6109 - acc: 0.8495\n",
            "Epoch 4/10\n",
            "40000/40000 [==============================] - 8s 199us/step - loss: 0.5541 - acc: 0.8552\n",
            "Epoch 5/10\n",
            "40000/40000 [==============================] - 7s 186us/step - loss: 0.5216 - acc: 0.8591\n",
            "Epoch 6/10\n",
            "40000/40000 [==============================] - 7s 184us/step - loss: 0.5076 - acc: 0.8588\n",
            "Epoch 7/10\n",
            "40000/40000 [==============================] - 7s 184us/step - loss: 0.4905 - acc: 0.8625\n",
            "Epoch 8/10\n",
            "40000/40000 [==============================] - 7s 183us/step - loss: 0.4830 - acc: 0.8636\n",
            "Epoch 9/10\n",
            "40000/40000 [==============================] - 7s 179us/step - loss: 0.4699 - acc: 0.8667\n",
            "Epoch 10/10\n",
            "40000/40000 [==============================] - 7s 184us/step - loss: 0.4691 - acc: 0.8668\n",
            "20000/20000 [==============================] - 1s 58us/step\n",
            "[512, 512, 512] relu adam ('l2', 0.001) 0.2\n",
            "_________________________________________________________________\n",
            "Layer (type)                 Output Shape              Param #   \n",
            "=================================================================\n",
            "dense_13 (Dense)             (None, 512)               401920    \n",
            "_________________________________________________________________\n",
            "dropout_9 (Dropout)          (None, 512)               0         \n",
            "_________________________________________________________________\n",
            "dense_14 (Dense)             (None, 512)               262656    \n",
            "_________________________________________________________________\n",
            "dropout_10 (Dropout)         (None, 512)               0         \n",
            "_________________________________________________________________\n",
            "dense_15 (Dense)             (None, 512)               262656    \n",
            "_________________________________________________________________\n",
            "dropout_11 (Dropout)         (None, 512)               0         \n",
            "_________________________________________________________________\n",
            "dense_16 (Dense)             (None, 10)                5130      \n",
            "=================================================================\n",
            "Total params: 932,362\n",
            "Trainable params: 932,362\n",
            "Non-trainable params: 0\n",
            "_________________________________________________________________\n",
            "Epoch 1/10\n",
            "40000/40000 [==============================] - 11s 273us/step - loss: 1.4644 - acc: 0.7880\n",
            "Epoch 2/10\n",
            "40000/40000 [==============================] - 10s 258us/step - loss: 0.8346 - acc: 0.8408\n",
            "Epoch 3/10\n",
            "40000/40000 [==============================] - 10s 251us/step - loss: 0.6604 - acc: 0.8478\n",
            "Epoch 4/10\n",
            "40000/40000 [==============================] - 10s 250us/step - loss: 0.5848 - acc: 0.8542\n",
            "Epoch 5/10\n",
            "40000/40000 [==============================] - 10s 251us/step - loss: 0.5529 - acc: 0.8561\n",
            "Epoch 6/10\n",
            "40000/40000 [==============================] - 10s 252us/step - loss: 0.5277 - acc: 0.8603\n",
            "Epoch 7/10\n",
            "40000/40000 [==============================] - 10s 251us/step - loss: 0.5241 - acc: 0.8586\n",
            "Epoch 8/10\n",
            "40000/40000 [==============================] - 10s 251us/step - loss: 0.5156 - acc: 0.8608\n",
            "Epoch 9/10\n",
            "40000/40000 [==============================] - 10s 256us/step - loss: 0.4983 - acc: 0.8654\n",
            "Epoch 10/10\n",
            "40000/40000 [==============================] - 10s 257us/step - loss: 0.4998 - acc: 0.8635\n",
            "20000/20000 [==============================] - 2s 79us/step\n",
            "[512, 512, 512] relu adam ('l2', 0.001) 0.2\n",
            "_________________________________________________________________\n",
            "Layer (type)                 Output Shape              Param #   \n",
            "=================================================================\n",
            "dense_17 (Dense)             (None, 512)               401920    \n",
            "_________________________________________________________________\n",
            "dropout_12 (Dropout)         (None, 512)               0         \n",
            "_________________________________________________________________\n",
            "dense_18 (Dense)             (None, 512)               262656    \n",
            "_________________________________________________________________\n",
            "dropout_13 (Dropout)         (None, 512)               0         \n",
            "_________________________________________________________________\n",
            "dense_19 (Dense)             (None, 512)               262656    \n",
            "_________________________________________________________________\n",
            "dropout_14 (Dropout)         (None, 512)               0         \n",
            "_________________________________________________________________\n",
            "dense_20 (Dense)             (None, 10)                5130      \n",
            "=================================================================\n",
            "Total params: 932,362\n",
            "Trainable params: 932,362\n",
            "Non-trainable params: 0\n",
            "_________________________________________________________________\n",
            "Epoch 1/10\n",
            "40000/40000 [==============================] - 11s 277us/step - loss: 1.4579 - acc: 0.7870\n",
            "Epoch 2/10\n",
            "40000/40000 [==============================] - 10s 250us/step - loss: 0.8343 - acc: 0.8367\n",
            "Epoch 3/10\n",
            "40000/40000 [==============================] - 10s 250us/step - loss: 0.6601 - acc: 0.8469\n",
            "Epoch 4/10\n",
            "40000/40000 [==============================] - 10s 252us/step - loss: 0.5875 - acc: 0.8520\n",
            "Epoch 5/10\n",
            "40000/40000 [==============================] - 10s 254us/step - loss: 0.5521 - acc: 0.8541\n",
            "Epoch 6/10\n",
            "40000/40000 [==============================] - 10s 250us/step - loss: 0.5407 - acc: 0.8533\n",
            "Epoch 7/10\n",
            "40000/40000 [==============================] - 10s 253us/step - loss: 0.5238 - acc: 0.8588\n",
            "Epoch 8/10\n",
            "40000/40000 [==============================] - 10s 257us/step - loss: 0.5174 - acc: 0.8601\n",
            "Epoch 9/10\n",
            "40000/40000 [==============================] - 10s 258us/step - loss: 0.5042 - acc: 0.8633\n",
            "Epoch 10/10\n",
            "40000/40000 [==============================] - 10s 257us/step - loss: 0.5048 - acc: 0.8611\n",
            "20000/20000 [==============================] - 2s 79us/step\n",
            "[512, 512, 512] relu adam ('l2', 0.001) 0.2\n",
            "_________________________________________________________________\n",
            "Layer (type)                 Output Shape              Param #   \n",
            "=================================================================\n",
            "dense_21 (Dense)             (None, 512)               401920    \n",
            "_________________________________________________________________\n",
            "dropout_15 (Dropout)         (None, 512)               0         \n",
            "_________________________________________________________________\n",
            "dense_22 (Dense)             (None, 512)               262656    \n",
            "_________________________________________________________________\n",
            "dropout_16 (Dropout)         (None, 512)               0         \n",
            "_________________________________________________________________\n",
            "dense_23 (Dense)             (None, 512)               262656    \n",
            "_________________________________________________________________\n",
            "dropout_17 (Dropout)         (None, 512)               0         \n",
            "_________________________________________________________________\n",
            "dense_24 (Dense)             (None, 10)                5130      \n",
            "=================================================================\n",
            "Total params: 932,362\n",
            "Trainable params: 932,362\n",
            "Non-trainable params: 0\n",
            "_________________________________________________________________\n",
            "Epoch 1/10\n",
            "40000/40000 [==============================] - 12s 293us/step - loss: 1.4497 - acc: 0.7822\n",
            "Epoch 2/10\n",
            "40000/40000 [==============================] - 11s 271us/step - loss: 0.8202 - acc: 0.8404\n",
            "Epoch 3/10\n",
            "40000/40000 [==============================] - 11s 268us/step - loss: 0.6498 - acc: 0.8492\n",
            "Epoch 4/10\n",
            "40000/40000 [==============================] - 11s 270us/step - loss: 0.5874 - acc: 0.8498\n",
            "Epoch 5/10\n",
            "40000/40000 [==============================] - 11s 286us/step - loss: 0.5493 - acc: 0.8561\n",
            "Epoch 6/10\n",
            "40000/40000 [==============================] - 11s 271us/step - loss: 0.5246 - acc: 0.8598\n",
            "Epoch 7/10\n",
            "40000/40000 [==============================] - 11s 271us/step - loss: 0.5175 - acc: 0.8602\n",
            "Epoch 8/10\n",
            "40000/40000 [==============================] - 11s 271us/step - loss: 0.5061 - acc: 0.8620\n",
            "Epoch 9/10\n",
            "40000/40000 [==============================] - 11s 269us/step - loss: 0.5057 - acc: 0.8623\n",
            "Epoch 10/10\n",
            "40000/40000 [==============================] - 11s 270us/step - loss: 0.4957 - acc: 0.8645\n",
            "20000/20000 [==============================] - 2s 84us/step\n",
            "[512, 512] elu adam ('l2', 0.001) 0.2\n",
            "_________________________________________________________________\n",
            "Layer (type)                 Output Shape              Param #   \n",
            "=================================================================\n",
            "dense_25 (Dense)             (None, 512)               401920    \n",
            "_________________________________________________________________\n",
            "dropout_18 (Dropout)         (None, 512)               0         \n",
            "_________________________________________________________________\n",
            "dense_26 (Dense)             (None, 512)               262656    \n",
            "_________________________________________________________________\n",
            "dropout_19 (Dropout)         (None, 512)               0         \n",
            "_________________________________________________________________\n",
            "dense_27 (Dense)             (None, 10)                5130      \n",
            "=================================================================\n",
            "Total params: 669,706\n",
            "Trainable params: 669,706\n",
            "Non-trainable params: 0\n",
            "_________________________________________________________________\n",
            "Epoch 1/10\n",
            "40000/40000 [==============================] - 9s 236us/step - loss: 1.3755 - acc: 0.7951\n",
            "Epoch 2/10\n",
            "40000/40000 [==============================] - 8s 206us/step - loss: 0.8853 - acc: 0.8298\n",
            "Epoch 3/10\n",
            "40000/40000 [==============================] - 8s 208us/step - loss: 0.6991 - acc: 0.8377\n",
            "Epoch 4/10\n",
            "40000/40000 [==============================] - 8s 209us/step - loss: 0.6144 - acc: 0.8407\n",
            "Epoch 5/10\n",
            "40000/40000 [==============================] - 8s 209us/step - loss: 0.5689 - acc: 0.8404\n",
            "Epoch 6/10\n",
            "40000/40000 [==============================] - 8s 209us/step - loss: 0.5454 - acc: 0.8452\n",
            "Epoch 7/10\n",
            "40000/40000 [==============================] - 8s 207us/step - loss: 0.5398 - acc: 0.8436\n",
            "Epoch 8/10\n",
            "40000/40000 [==============================] - 8s 206us/step - loss: 0.5293 - acc: 0.8457\n",
            "Epoch 9/10\n",
            "40000/40000 [==============================] - 8s 207us/step - loss: 0.5288 - acc: 0.8442\n",
            "Epoch 10/10\n",
            "40000/40000 [==============================] - 8s 207us/step - loss: 0.5137 - acc: 0.8495\n",
            "20000/20000 [==============================] - 2s 76us/step\n",
            "[512, 512] elu adam ('l2', 0.001) 0.2\n",
            "_________________________________________________________________\n",
            "Layer (type)                 Output Shape              Param #   \n",
            "=================================================================\n",
            "dense_28 (Dense)             (None, 512)               401920    \n",
            "_________________________________________________________________\n",
            "dropout_20 (Dropout)         (None, 512)               0         \n",
            "_________________________________________________________________\n",
            "dense_29 (Dense)             (None, 512)               262656    \n",
            "_________________________________________________________________\n",
            "dropout_21 (Dropout)         (None, 512)               0         \n",
            "_________________________________________________________________\n",
            "dense_30 (Dense)             (None, 10)                5130      \n",
            "=================================================================\n",
            "Total params: 669,706\n",
            "Trainable params: 669,706\n",
            "Non-trainable params: 0\n",
            "_________________________________________________________________\n",
            "Epoch 1/10\n",
            "40000/40000 [==============================] - 9s 227us/step - loss: 1.4040 - acc: 0.7882\n",
            "Epoch 2/10\n",
            "40000/40000 [==============================] - 8s 195us/step - loss: 0.9008 - acc: 0.8288\n",
            "Epoch 3/10\n",
            "40000/40000 [==============================] - 8s 197us/step - loss: 0.7088 - acc: 0.8306\n",
            "Epoch 4/10\n",
            "40000/40000 [==============================] - 8s 196us/step - loss: 0.6165 - acc: 0.8379\n",
            "Epoch 5/10\n",
            "40000/40000 [==============================] - 8s 196us/step - loss: 0.5710 - acc: 0.8394\n",
            "Epoch 6/10\n",
            "40000/40000 [==============================] - 8s 194us/step - loss: 0.5541 - acc: 0.8399\n",
            "Epoch 7/10\n",
            "40000/40000 [==============================] - 8s 199us/step - loss: 0.5461 - acc: 0.8391\n",
            "Epoch 8/10\n",
            "40000/40000 [==============================] - 8s 198us/step - loss: 0.5320 - acc: 0.8418\n",
            "Epoch 9/10\n",
            "40000/40000 [==============================] - 8s 198us/step - loss: 0.5268 - acc: 0.8435\n",
            "Epoch 10/10\n",
            "40000/40000 [==============================] - 8s 204us/step - loss: 0.5175 - acc: 0.8456\n",
            "20000/20000 [==============================] - 2s 76us/step\n",
            "[512, 512] elu adam ('l2', 0.001) 0.2\n",
            "_________________________________________________________________\n",
            "Layer (type)                 Output Shape              Param #   \n",
            "=================================================================\n",
            "dense_31 (Dense)             (None, 512)               401920    \n",
            "_________________________________________________________________\n",
            "dropout_22 (Dropout)         (None, 512)               0         \n",
            "_________________________________________________________________\n",
            "dense_32 (Dense)             (None, 512)               262656    \n",
            "_________________________________________________________________\n",
            "dropout_23 (Dropout)         (None, 512)               0         \n",
            "_________________________________________________________________\n",
            "dense_33 (Dense)             (None, 10)                5130      \n",
            "=================================================================\n",
            "Total params: 669,706\n",
            "Trainable params: 669,706\n",
            "Non-trainable params: 0\n",
            "_________________________________________________________________\n",
            "Epoch 1/10\n",
            "40000/40000 [==============================] - 10s 238us/step - loss: 1.3784 - acc: 0.7925\n",
            "Epoch 2/10\n",
            "40000/40000 [==============================] - 8s 209us/step - loss: 0.8907 - acc: 0.8277\n",
            "Epoch 3/10\n",
            "40000/40000 [==============================] - 8s 207us/step - loss: 0.6969 - acc: 0.8346\n",
            "Epoch 4/10\n",
            "40000/40000 [==============================] - 8s 207us/step - loss: 0.6204 - acc: 0.8343\n",
            "Epoch 5/10\n",
            "40000/40000 [==============================] - 8s 208us/step - loss: 0.5695 - acc: 0.8417\n",
            "Epoch 6/10\n",
            "40000/40000 [==============================] - 8s 206us/step - loss: 0.5520 - acc: 0.8429\n",
            "Epoch 7/10\n",
            "40000/40000 [==============================] - 8s 204us/step - loss: 0.5371 - acc: 0.8425\n",
            "Epoch 8/10\n",
            "40000/40000 [==============================] - 8s 204us/step - loss: 0.5260 - acc: 0.8446\n",
            "Epoch 9/10\n",
            "40000/40000 [==============================] - 8s 205us/step - loss: 0.5211 - acc: 0.8472\n",
            "Epoch 10/10\n",
            "40000/40000 [==============================] - 9s 218us/step - loss: 0.5192 - acc: 0.8456\n",
            "20000/20000 [==============================] - 2s 79us/step\n",
            "[512, 512, 512] elu adam ('l2', 0.001) 0.2\n",
            "_________________________________________________________________\n",
            "Layer (type)                 Output Shape              Param #   \n",
            "=================================================================\n",
            "dense_34 (Dense)             (None, 512)               401920    \n",
            "_________________________________________________________________\n",
            "dropout_24 (Dropout)         (None, 512)               0         \n",
            "_________________________________________________________________\n",
            "dense_35 (Dense)             (None, 512)               262656    \n",
            "_________________________________________________________________\n",
            "dropout_25 (Dropout)         (None, 512)               0         \n",
            "_________________________________________________________________\n",
            "dense_36 (Dense)             (None, 512)               262656    \n",
            "_________________________________________________________________\n",
            "dropout_26 (Dropout)         (None, 512)               0         \n",
            "_________________________________________________________________\n",
            "dense_37 (Dense)             (None, 10)                5130      \n",
            "=================================================================\n",
            "Total params: 932,362\n",
            "Trainable params: 932,362\n",
            "Non-trainable params: 0\n",
            "_________________________________________________________________\n",
            "Epoch 1/10\n",
            "40000/40000 [==============================] - 13s 315us/step - loss: 1.7809 - acc: 0.7853\n",
            "Epoch 2/10\n",
            "40000/40000 [==============================] - 11s 276us/step - loss: 1.0733 - acc: 0.8234\n",
            "Epoch 3/10\n",
            "40000/40000 [==============================] - 11s 277us/step - loss: 0.7817 - acc: 0.8316\n",
            "Epoch 4/10\n",
            "40000/40000 [==============================] - 11s 281us/step - loss: 0.6598 - acc: 0.8356\n",
            "Epoch 5/10\n",
            "40000/40000 [==============================] - 11s 287us/step - loss: 0.5983 - acc: 0.8402\n",
            "Epoch 6/10\n",
            "40000/40000 [==============================] - 11s 283us/step - loss: 0.5722 - acc: 0.8415\n",
            "Epoch 7/10\n",
            "40000/40000 [==============================] - 11s 284us/step - loss: 0.5653 - acc: 0.8393\n",
            "Epoch 8/10\n",
            "40000/40000 [==============================] - 11s 287us/step - loss: 0.5544 - acc: 0.8426\n",
            "Epoch 9/10\n",
            "40000/40000 [==============================] - 11s 286us/step - loss: 0.5516 - acc: 0.8420\n",
            "Epoch 10/10\n",
            "40000/40000 [==============================] - 11s 285us/step - loss: 0.5441 - acc: 0.8421\n",
            "20000/20000 [==============================] - 2s 103us/step\n",
            "[512, 512, 512] elu adam ('l2', 0.001) 0.2\n",
            "_________________________________________________________________\n",
            "Layer (type)                 Output Shape              Param #   \n",
            "=================================================================\n",
            "dense_38 (Dense)             (None, 512)               401920    \n",
            "_________________________________________________________________\n",
            "dropout_27 (Dropout)         (None, 512)               0         \n",
            "_________________________________________________________________\n",
            "dense_39 (Dense)             (None, 512)               262656    \n",
            "_________________________________________________________________\n",
            "dropout_28 (Dropout)         (None, 512)               0         \n",
            "_________________________________________________________________\n",
            "dense_40 (Dense)             (None, 512)               262656    \n",
            "_________________________________________________________________\n",
            "dropout_29 (Dropout)         (None, 512)               0         \n",
            "_________________________________________________________________\n",
            "dense_41 (Dense)             (None, 10)                5130      \n",
            "=================================================================\n",
            "Total params: 932,362\n",
            "Trainable params: 932,362\n",
            "Non-trainable params: 0\n",
            "_________________________________________________________________\n",
            "Epoch 1/10\n",
            "40000/40000 [==============================] - 13s 329us/step - loss: 1.7993 - acc: 0.7837\n",
            "Epoch 2/10\n",
            "40000/40000 [==============================] - 12s 289us/step - loss: 1.0854 - acc: 0.8233\n",
            "Epoch 3/10\n",
            "40000/40000 [==============================] - 12s 288us/step - loss: 0.7910 - acc: 0.8302\n",
            "Epoch 4/10\n",
            "40000/40000 [==============================] - 11s 287us/step - loss: 0.6561 - acc: 0.8356\n",
            "Epoch 5/10\n",
            "40000/40000 [==============================] - 11s 282us/step - loss: 0.6072 - acc: 0.8357\n",
            "Epoch 6/10\n",
            "40000/40000 [==============================] - 11s 283us/step - loss: 0.5845 - acc: 0.8355\n",
            "Epoch 7/10\n",
            "40000/40000 [==============================] - 11s 284us/step - loss: 0.5616 - acc: 0.8393\n",
            "Epoch 8/10\n",
            "40000/40000 [==============================] - 11s 282us/step - loss: 0.5660 - acc: 0.8361\n",
            "Epoch 9/10\n",
            "40000/40000 [==============================] - 11s 280us/step - loss: 0.5523 - acc: 0.8403\n",
            "Epoch 10/10\n",
            "40000/40000 [==============================] - 11s 287us/step - loss: 0.5426 - acc: 0.8429\n",
            "20000/20000 [==============================] - 2s 106us/step\n",
            "[512, 512, 512] elu adam ('l2', 0.001) 0.2\n",
            "_________________________________________________________________\n",
            "Layer (type)                 Output Shape              Param #   \n",
            "=================================================================\n",
            "dense_42 (Dense)             (None, 512)               401920    \n",
            "_________________________________________________________________\n",
            "dropout_30 (Dropout)         (None, 512)               0         \n",
            "_________________________________________________________________\n",
            "dense_43 (Dense)             (None, 512)               262656    \n",
            "_________________________________________________________________\n",
            "dropout_31 (Dropout)         (None, 512)               0         \n",
            "_________________________________________________________________\n",
            "dense_44 (Dense)             (None, 512)               262656    \n",
            "_________________________________________________________________\n",
            "dropout_32 (Dropout)         (None, 512)               0         \n",
            "_________________________________________________________________\n",
            "dense_45 (Dense)             (None, 10)                5130      \n",
            "=================================================================\n",
            "Total params: 932,362\n",
            "Trainable params: 932,362\n",
            "Non-trainable params: 0\n",
            "_________________________________________________________________\n",
            "Epoch 1/10\n",
            "40000/40000 [==============================] - 13s 335us/step - loss: 1.7755 - acc: 0.7880\n",
            "Epoch 2/10\n",
            "40000/40000 [==============================] - 12s 294us/step - loss: 1.0746 - acc: 0.8251\n",
            "Epoch 3/10\n",
            "40000/40000 [==============================] - 11s 284us/step - loss: 0.7890 - acc: 0.8303\n",
            "Epoch 4/10\n",
            "40000/40000 [==============================] - 11s 286us/step - loss: 0.6521 - acc: 0.8376\n",
            "Epoch 5/10\n",
            "40000/40000 [==============================] - 12s 290us/step - loss: 0.6084 - acc: 0.8317\n",
            "Epoch 6/10\n",
            "40000/40000 [==============================] - 12s 295us/step - loss: 0.5703 - acc: 0.8403\n",
            "Epoch 7/10\n",
            "40000/40000 [==============================] - 11s 283us/step - loss: 0.5567 - acc: 0.8413\n",
            "Epoch 8/10\n",
            "40000/40000 [==============================] - 11s 280us/step - loss: 0.5570 - acc: 0.8415\n",
            "Epoch 9/10\n",
            "40000/40000 [==============================] - 11s 281us/step - loss: 0.5470 - acc: 0.8419\n",
            "Epoch 10/10\n",
            "40000/40000 [==============================] - 11s 282us/step - loss: 0.5444 - acc: 0.8412\n",
            "20000/20000 [==============================] - 2s 104us/step\n",
            "[512, 512, 512] relu adam ('l2', 0.001) 0.2\n",
            "_________________________________________________________________\n",
            "Layer (type)                 Output Shape              Param #   \n",
            "=================================================================\n",
            "dense_46 (Dense)             (None, 512)               401920    \n",
            "_________________________________________________________________\n",
            "dropout_33 (Dropout)         (None, 512)               0         \n",
            "_________________________________________________________________\n",
            "dense_47 (Dense)             (None, 512)               262656    \n",
            "_________________________________________________________________\n",
            "dropout_34 (Dropout)         (None, 512)               0         \n",
            "_________________________________________________________________\n",
            "dense_48 (Dense)             (None, 512)               262656    \n",
            "_________________________________________________________________\n",
            "dropout_35 (Dropout)         (None, 512)               0         \n",
            "_________________________________________________________________\n",
            "dense_49 (Dense)             (None, 10)                5130      \n",
            "=================================================================\n",
            "Total params: 932,362\n",
            "Trainable params: 932,362\n",
            "Non-trainable params: 0\n",
            "_________________________________________________________________\n",
            "Epoch 1/10\n",
            "60000/60000 [==============================] - 20s 338us/step - loss: 1.2604 - acc: 0.8019\n",
            "Epoch 2/10\n",
            "60000/60000 [==============================] - 18s 307us/step - loss: 0.6994 - acc: 0.8441\n",
            "Epoch 3/10\n",
            "60000/60000 [==============================] - 18s 308us/step - loss: 0.5833 - acc: 0.8512\n",
            "Epoch 4/10\n",
            "60000/60000 [==============================] - 19s 311us/step - loss: 0.5451 - acc: 0.8550\n",
            "Epoch 5/10\n",
            "60000/60000 [==============================] - 19s 310us/step - loss: 0.5249 - acc: 0.8567\n",
            "Epoch 6/10\n",
            "60000/60000 [==============================] - 18s 308us/step - loss: 0.5161 - acc: 0.8587\n",
            "Epoch 7/10\n",
            "44288/60000 [=====================>........] - ETA: 4s - loss: 0.5022 - acc: 0.8630"
          ],
          "name": "stdout"
        }
      ]
    },
    {
      "cell_type": "code",
      "metadata": {
        "id": "yEtl6dN1AuJP",
        "colab_type": "code",
        "colab": {}
      },
      "source": [
        ""
      ],
      "execution_count": 0,
      "outputs": []
    },
    {
      "cell_type": "markdown",
      "metadata": {
        "id": "9HPgwFBcAZYn",
        "colab_type": "text"
      },
      "source": [
        "# RandomForest"
      ]
    },
    {
      "cell_type": "code",
      "metadata": {
        "id": "X1xn4hi0AZYo",
        "colab_type": "code",
        "colab": {},
        "outputId": "562bdff5-0cac-4931-bc4b-fbbed63f6b06"
      },
      "source": [
        "rf = RandomForestClassifier(n_estimators=64, n_jobs=-1)\n",
        "rf.fit(x_train_mlp, y_train_mlp)\n"
      ],
      "execution_count": 0,
      "outputs": [
        {
          "output_type": "execute_result",
          "data": {
            "text/plain": [
              "RandomForestClassifier(bootstrap=True, class_weight=None, criterion='gini',\n",
              "            max_depth=None, max_features='auto', max_leaf_nodes=None,\n",
              "            min_impurity_decrease=0.0, min_impurity_split=None,\n",
              "            min_samples_leaf=1, min_samples_split=2,\n",
              "            min_weight_fraction_leaf=0.0, n_estimators=64, n_jobs=-1,\n",
              "            oob_score=False, random_state=None, verbose=0,\n",
              "            warm_start=False)"
            ]
          },
          "metadata": {
            "tags": []
          },
          "execution_count": 13
        }
      ]
    },
    {
      "cell_type": "code",
      "metadata": {
        "id": "JeFRgl08AZYr",
        "colab_type": "code",
        "colab": {}
      },
      "source": [
        "y_pred_mlp = rf.predict(x_test_mlp)\n"
      ],
      "execution_count": 0,
      "outputs": []
    },
    {
      "cell_type": "code",
      "metadata": {
        "id": "Lg0JngF1AZYt",
        "colab_type": "code",
        "colab": {},
        "outputId": "529af851-790c-42cb-df1e-1dac1c726154"
      },
      "source": [
        "# Print result\n",
        "print(accuracy_score(y_test_mlp, y_pred_mlp))"
      ],
      "execution_count": 0,
      "outputs": [
        {
          "output_type": "stream",
          "text": [
            "0.8017\n"
          ],
          "name": "stdout"
        }
      ]
    },
    {
      "cell_type": "markdown",
      "metadata": {
        "id": "wmG_6LzgAZYw",
        "colab_type": "text"
      },
      "source": [
        "# Convulational Model"
      ]
    },
    {
      "cell_type": "code",
      "metadata": {
        "id": "WvE2Ys9_AZYw",
        "colab_type": "code",
        "colab": {},
        "outputId": "8f94cfe7-f84b-4fd4-8593-5f2ccfe47c74"
      },
      "source": [
        "# See first 25 data\n",
        "\n",
        "plt.figure(figsize=(10,10))\n",
        "for i in range(0,25):\n",
        "    plt.subplot(5,5, i+1)\n",
        "    plt.imshow(x_train[i] )\n",
        "    plt.title( target_dict[(y_train[i]) ])\n",
        "    plt.xticks([])\n",
        "    plt.yticks([])"
      ],
      "execution_count": 0,
      "outputs": [
        {
          "output_type": "display_data",
          "data": {
            "image/png": "[encoded data removed]",
            "text/plain": [
              "<Figure size 720x720 with 25 Axes>"
            ]
          },
          "metadata": {
            "tags": []
          }
        }
      ]
    },
    {
      "cell_type": "code",
      "metadata": {
        "id": "NPScDSCkAZY4",
        "colab_type": "code",
        "colab": {}
      },
      "source": [
        "class DataPreparation:\n",
        "    def __init__(self, x_data, y_data, normalized=True):\n",
        "        self. X = x_data.reshape(x_data.shape[0], 28,28,1)\n",
        "        # One hot encoded\n",
        "        self.Y = np_utils.to_categorical(y_data)\n",
        "        \n",
        "        if normalized:\n",
        "            self.__normalize_data__()\n",
        "\n",
        "\n",
        "    def __normalize_data__(self):\n",
        "        self.X = self.X/np.float(255)"
      ],
      "execution_count": 0,
      "outputs": []
    },
    {
      "cell_type": "code",
      "metadata": {
        "id": "IjlkHURSAZY6",
        "colab_type": "code",
        "colab": {}
      },
      "source": [
        "train_data  = DataPreparation(x_train, y_train)\n",
        "test_data = DataPreparation(x_test, y_test)"
      ],
      "execution_count": 0,
      "outputs": []
    },
    {
      "cell_type": "code",
      "metadata": {
        "id": "a-X0pZmJAZY8",
        "colab_type": "code",
        "colab": {},
        "outputId": "1a65bb46-5e17-450d-8b05-61d6a7a74027"
      },
      "source": [
        "print(train_data.Y[:5])\n",
        "print(train_data.X.shape)"
      ],
      "execution_count": 0,
      "outputs": [
        {
          "output_type": "stream",
          "text": [
            "[[0. 0. 0. 0. 0. 0. 0. 0. 0. 1.]\n",
            " [1. 0. 0. 0. 0. 0. 0. 0. 0. 0.]\n",
            " [1. 0. 0. 0. 0. 0. 0. 0. 0. 0.]\n",
            " [0. 0. 0. 1. 0. 0. 0. 0. 0. 0.]\n",
            " [1. 0. 0. 0. 0. 0. 0. 0. 0. 0.]]\n",
            "(60000, 28, 28, 1)\n"
          ],
          "name": "stdout"
        }
      ]
    },
    {
      "cell_type": "code",
      "metadata": {
        "id": "AvZig4jeAZZD",
        "colab_type": "code",
        "colab": {}
      },
      "source": [
        "parameters = {\n",
        "    'layers' : [{'Conv2D' : 64, 'Conv2D' : 32}, {'Conv2D' : 64, 'Dense' : 32 } ],\n",
        "    'activation' : ['relu']\n",
        "    'optimizer' : ['adam'],\n",
        "    'regularization' : [ ('l2', 0.001) ]\n",
        "}"
      ],
      "execution_count": 0,
      "outputs": []
    },
    {
      "cell_type": "code",
      "metadata": {
        "id": "c2YRoCGVAZZJ",
        "colab_type": "code",
        "colab": {}
      },
      "source": [
        "class ConvolutionalModel:\n",
        "    def __init__(self ,x_train, y_train):\n",
        "        self.x_train = x_train\n",
        "        self.y_train = y_train\n",
        "        self.model = Sequential()\n",
        "    \n",
        "    def build_model(self, layers, activation, optimizer, regularization=None, dropout = 0.0 ):\n",
        "        if regularization:\n",
        "                regularization = l2(regularization[1]) if regularization[0] == 'l2' else l1(regularization[1])\n",
        "       \n",
        "        i = 0\n",
        "        for layer in layers:\n",
        "            i+=1\n",
        "            if i==1 :\n",
        "                if layer == 'Conv2D':\n",
        "                    model.add(Conv2D(layers[layer], kernel_size=3, activation=activation, input_shape=self.x_train.shape, regularization=regularization))\n",
        "                else:\n",
        "                    model.add(Dense(layers[layer], activation=activation, input_shape=self.x_train.shape, regularization=regularization))\n",
        "            \n",
        "            if layer == 'Conv2D':\n",
        "                model.add(Conv2D(layers[layer], kernel_size=3, activation=activation, regularization=regularization))\n",
        "            else:\n",
        "                model.add(Dense(layers[layer], activation=activation, regularization=regularization))\n",
        "            \n",
        "\n",
        "        self.model.add(Flatten())\n",
        "        self.model.add(Dense(10, activation='softmax'))\n",
        "        self.model.summary()\n",
        "        self.model.compile(loss='categorical_crossentropy', optimizer=optimizer,  metrics=['accuracy'])\n",
        "        \n",
        "        return self.model\n",
        "        \n",
        "    \n",
        "    def fit(self, x_train, y_train, epochs=5):\n",
        "        self.epochs = 5\n",
        "        self.x_train, self.y_train = x_train, y_train\n",
        "        \n",
        "    \n",
        "        \n",
        "    \n",
        "    \n",
        "    \n",
        "    \n",
        "        \n",
        "    \n",
        "    \n",
        "    \n",
        "    \n",
        "    "
      ],
      "execution_count": 0,
      "outputs": []
    }
  ]
}